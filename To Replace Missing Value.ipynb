{
 "cells": [
  {
   "cell_type": "markdown",
   "metadata": {},
   "source": [
    "# 1. 라이브러리"
   ]
  },
  {
   "cell_type": "code",
   "execution_count": 1,
   "metadata": {},
   "outputs": [
    {
     "name": "stdout",
     "output_type": "stream",
     "text": [
      "Graphics Card Driver\n",
      "[name: \"/device:CPU:0\"\n",
      "device_type: \"CPU\"\n",
      "memory_limit: 268435456\n",
      "locality {\n",
      "}\n",
      "incarnation: 17012278063502882696\n",
      ", name: \"/device:GPU:0\"\n",
      "device_type: \"GPU\"\n",
      "memory_limit: 6667611669\n",
      "locality {\n",
      "  bus_id: 1\n",
      "  links {\n",
      "  }\n",
      "}\n",
      "incarnation: 7468600494814102719\n",
      "physical_device_desc: \"device: 0, name: GeForce GTX 1080, pci bus id: 0000:01:00.0, compute capability: 6.1\"\n",
      "]\n",
      "\n",
      "\n",
      "\n",
      "++ Version of Used Libraries ++\n",
      "\n",
      "   - Tensorflow : 1.14.0\n",
      "   - Pandas : 0.25.1\n",
      "   - Numpy : 1.17.2\n",
      "   - Missingno : 0.4.2\n",
      "   - Seaborn : 0.9.0\n",
      "   - Matplotlib : 3.1.1\n",
      "   - sklearn : 0.21.3\n",
      "   - scipy : 1.3.1\n"
     ]
    }
   ],
   "source": [
    "''' 경고 무시 '''\n",
    "import warnings\n",
    "warnings.filterwarnings('ignore')\n",
    "\n",
    "''' Tensorflow-GPU '''\n",
    "import tensorflow as tf\n",
    "from tensorflow.python.client import device_lib\n",
    "\n",
    "''' 데이터 프레임 '''\n",
    "import pandas as pd\n",
    "\n",
    "''' 연산 '''\n",
    "import numpy as np\n",
    "\n",
    "''' 시각화 '''\n",
    "import missingno as msno\n",
    "import seaborn as sns\n",
    "import matplotlib\n",
    "import matplotlib.pyplot as plt\n",
    "%matplotlib inline\n",
    "\n",
    "''' 전처리 '''\n",
    "import sklearn\n",
    "from sklearn import preprocessing\n",
    "LE = preprocessing.LabelEncoder()\n",
    "from sklearn.model_selection import train_test_split\n",
    "from sklearn.model_selection import cross_val_score\n",
    "from sklearn import metrics\n",
    "from sklearn.metrics import accuracy_score\n",
    "\n",
    "''' 상관분석 '''\n",
    "import scipy\n",
    "import scipy.stats as stats\n",
    "\n",
    "''' 머신러닝 알고리즘 '''\n",
    "from sklearn.svm import SVC                               \n",
    "from sklearn.linear_model import Perceptron\n",
    "from sklearn.neural_network import MLPClassifier\n",
    "from sklearn.tree import DecisionTreeClassifier\n",
    "from sklearn.neighbors import KNeighborsClassifier\n",
    "from sklearn.ensemble import RandomForestClassifier\n",
    "from xgboost import XGBClassifier\n",
    "\n",
    "print('Graphics Card Driver')\n",
    "print(device_lib.list_local_devices())\n",
    "print('')\n",
    "print('')\n",
    "print('')\n",
    "print('++ Version of Used Libraries ++')\n",
    "print('')\n",
    "print('   - Tensorflow :', tf.__version__)\n",
    "print('   - Pandas :', pd.__version__)\n",
    "print('   - Numpy :', np.__version__)\n",
    "print('   - Missingno :', msno.__version__)\n",
    "print('   - Seaborn :', sns.__version__)\n",
    "print('   - Matplotlib :', matplotlib.__version__)\n",
    "print('   - sklearn :', sklearn.__version__)\n",
    "print('   - scipy :', scipy.__version__)"
   ]
  },
  {
   "cell_type": "markdown",
   "metadata": {},
   "source": [
    "# 2. 데이터"
   ]
  },
  {
   "cell_type": "code",
   "execution_count": 2,
   "metadata": {},
   "outputs": [],
   "source": [
    "pd_train = pd.read_csv('train.csv')\n",
    "pd_test = pd.read_csv('test.csv')"
   ]
  },
  {
   "cell_type": "code",
   "execution_count": 3,
   "metadata": {},
   "outputs": [
    {
     "data": {
      "text/html": [
       "<div>\n",
       "<style scoped>\n",
       "    .dataframe tbody tr th:only-of-type {\n",
       "        vertical-align: middle;\n",
       "    }\n",
       "\n",
       "    .dataframe tbody tr th {\n",
       "        vertical-align: top;\n",
       "    }\n",
       "\n",
       "    .dataframe thead th {\n",
       "        text-align: right;\n",
       "    }\n",
       "</style>\n",
       "<table border=\"1\" class=\"dataframe\">\n",
       "  <thead>\n",
       "    <tr style=\"text-align: right;\">\n",
       "      <th></th>\n",
       "      <th>PassengerId</th>\n",
       "      <th>Survived</th>\n",
       "      <th>Pclass</th>\n",
       "      <th>Name</th>\n",
       "      <th>Sex</th>\n",
       "      <th>Age</th>\n",
       "      <th>SibSp</th>\n",
       "      <th>Parch</th>\n",
       "      <th>Ticket</th>\n",
       "      <th>Fare</th>\n",
       "      <th>Cabin</th>\n",
       "      <th>Embarked</th>\n",
       "    </tr>\n",
       "  </thead>\n",
       "  <tbody>\n",
       "    <tr>\n",
       "      <td>0</td>\n",
       "      <td>1</td>\n",
       "      <td>0</td>\n",
       "      <td>3</td>\n",
       "      <td>Braund, Mr. Owen Harris</td>\n",
       "      <td>male</td>\n",
       "      <td>22.0</td>\n",
       "      <td>1</td>\n",
       "      <td>0</td>\n",
       "      <td>A/5 21171</td>\n",
       "      <td>7.2500</td>\n",
       "      <td>NaN</td>\n",
       "      <td>S</td>\n",
       "    </tr>\n",
       "    <tr>\n",
       "      <td>1</td>\n",
       "      <td>2</td>\n",
       "      <td>1</td>\n",
       "      <td>1</td>\n",
       "      <td>Cumings, Mrs. John Bradley (Florence Briggs Th...</td>\n",
       "      <td>female</td>\n",
       "      <td>38.0</td>\n",
       "      <td>1</td>\n",
       "      <td>0</td>\n",
       "      <td>PC 17599</td>\n",
       "      <td>71.2833</td>\n",
       "      <td>C85</td>\n",
       "      <td>C</td>\n",
       "    </tr>\n",
       "    <tr>\n",
       "      <td>2</td>\n",
       "      <td>3</td>\n",
       "      <td>1</td>\n",
       "      <td>3</td>\n",
       "      <td>Heikkinen, Miss. Laina</td>\n",
       "      <td>female</td>\n",
       "      <td>26.0</td>\n",
       "      <td>0</td>\n",
       "      <td>0</td>\n",
       "      <td>STON/O2. 3101282</td>\n",
       "      <td>7.9250</td>\n",
       "      <td>NaN</td>\n",
       "      <td>S</td>\n",
       "    </tr>\n",
       "    <tr>\n",
       "      <td>3</td>\n",
       "      <td>4</td>\n",
       "      <td>1</td>\n",
       "      <td>1</td>\n",
       "      <td>Futrelle, Mrs. Jacques Heath (Lily May Peel)</td>\n",
       "      <td>female</td>\n",
       "      <td>35.0</td>\n",
       "      <td>1</td>\n",
       "      <td>0</td>\n",
       "      <td>113803</td>\n",
       "      <td>53.1000</td>\n",
       "      <td>C123</td>\n",
       "      <td>S</td>\n",
       "    </tr>\n",
       "    <tr>\n",
       "      <td>4</td>\n",
       "      <td>5</td>\n",
       "      <td>0</td>\n",
       "      <td>3</td>\n",
       "      <td>Allen, Mr. William Henry</td>\n",
       "      <td>male</td>\n",
       "      <td>35.0</td>\n",
       "      <td>0</td>\n",
       "      <td>0</td>\n",
       "      <td>373450</td>\n",
       "      <td>8.0500</td>\n",
       "      <td>NaN</td>\n",
       "      <td>S</td>\n",
       "    </tr>\n",
       "  </tbody>\n",
       "</table>\n",
       "</div>"
      ],
      "text/plain": [
       "   PassengerId  Survived  Pclass  \\\n",
       "0            1         0       3   \n",
       "1            2         1       1   \n",
       "2            3         1       3   \n",
       "3            4         1       1   \n",
       "4            5         0       3   \n",
       "\n",
       "                                                Name     Sex   Age  SibSp  \\\n",
       "0                            Braund, Mr. Owen Harris    male  22.0      1   \n",
       "1  Cumings, Mrs. John Bradley (Florence Briggs Th...  female  38.0      1   \n",
       "2                             Heikkinen, Miss. Laina  female  26.0      0   \n",
       "3       Futrelle, Mrs. Jacques Heath (Lily May Peel)  female  35.0      1   \n",
       "4                           Allen, Mr. William Henry    male  35.0      0   \n",
       "\n",
       "   Parch            Ticket     Fare Cabin Embarked  \n",
       "0      0         A/5 21171   7.2500   NaN        S  \n",
       "1      0          PC 17599  71.2833   C85        C  \n",
       "2      0  STON/O2. 3101282   7.9250   NaN        S  \n",
       "3      0            113803  53.1000  C123        S  \n",
       "4      0            373450   8.0500   NaN        S  "
      ]
     },
     "execution_count": 3,
     "metadata": {},
     "output_type": "execute_result"
    }
   ],
   "source": [
    "pd_train.head()"
   ]
  },
  {
   "cell_type": "code",
   "execution_count": 4,
   "metadata": {},
   "outputs": [
    {
     "data": {
      "text/html": [
       "<div>\n",
       "<style scoped>\n",
       "    .dataframe tbody tr th:only-of-type {\n",
       "        vertical-align: middle;\n",
       "    }\n",
       "\n",
       "    .dataframe tbody tr th {\n",
       "        vertical-align: top;\n",
       "    }\n",
       "\n",
       "    .dataframe thead th {\n",
       "        text-align: right;\n",
       "    }\n",
       "</style>\n",
       "<table border=\"1\" class=\"dataframe\">\n",
       "  <thead>\n",
       "    <tr style=\"text-align: right;\">\n",
       "      <th></th>\n",
       "      <th>PassengerId</th>\n",
       "      <th>Pclass</th>\n",
       "      <th>Name</th>\n",
       "      <th>Sex</th>\n",
       "      <th>Age</th>\n",
       "      <th>SibSp</th>\n",
       "      <th>Parch</th>\n",
       "      <th>Ticket</th>\n",
       "      <th>Fare</th>\n",
       "      <th>Cabin</th>\n",
       "      <th>Embarked</th>\n",
       "    </tr>\n",
       "  </thead>\n",
       "  <tbody>\n",
       "    <tr>\n",
       "      <td>0</td>\n",
       "      <td>892</td>\n",
       "      <td>3</td>\n",
       "      <td>Kelly, Mr. James</td>\n",
       "      <td>male</td>\n",
       "      <td>34.5</td>\n",
       "      <td>0</td>\n",
       "      <td>0</td>\n",
       "      <td>330911</td>\n",
       "      <td>7.8292</td>\n",
       "      <td>NaN</td>\n",
       "      <td>Q</td>\n",
       "    </tr>\n",
       "    <tr>\n",
       "      <td>1</td>\n",
       "      <td>893</td>\n",
       "      <td>3</td>\n",
       "      <td>Wilkes, Mrs. James (Ellen Needs)</td>\n",
       "      <td>female</td>\n",
       "      <td>47.0</td>\n",
       "      <td>1</td>\n",
       "      <td>0</td>\n",
       "      <td>363272</td>\n",
       "      <td>7.0000</td>\n",
       "      <td>NaN</td>\n",
       "      <td>S</td>\n",
       "    </tr>\n",
       "    <tr>\n",
       "      <td>2</td>\n",
       "      <td>894</td>\n",
       "      <td>2</td>\n",
       "      <td>Myles, Mr. Thomas Francis</td>\n",
       "      <td>male</td>\n",
       "      <td>62.0</td>\n",
       "      <td>0</td>\n",
       "      <td>0</td>\n",
       "      <td>240276</td>\n",
       "      <td>9.6875</td>\n",
       "      <td>NaN</td>\n",
       "      <td>Q</td>\n",
       "    </tr>\n",
       "    <tr>\n",
       "      <td>3</td>\n",
       "      <td>895</td>\n",
       "      <td>3</td>\n",
       "      <td>Wirz, Mr. Albert</td>\n",
       "      <td>male</td>\n",
       "      <td>27.0</td>\n",
       "      <td>0</td>\n",
       "      <td>0</td>\n",
       "      <td>315154</td>\n",
       "      <td>8.6625</td>\n",
       "      <td>NaN</td>\n",
       "      <td>S</td>\n",
       "    </tr>\n",
       "    <tr>\n",
       "      <td>4</td>\n",
       "      <td>896</td>\n",
       "      <td>3</td>\n",
       "      <td>Hirvonen, Mrs. Alexander (Helga E Lindqvist)</td>\n",
       "      <td>female</td>\n",
       "      <td>22.0</td>\n",
       "      <td>1</td>\n",
       "      <td>1</td>\n",
       "      <td>3101298</td>\n",
       "      <td>12.2875</td>\n",
       "      <td>NaN</td>\n",
       "      <td>S</td>\n",
       "    </tr>\n",
       "  </tbody>\n",
       "</table>\n",
       "</div>"
      ],
      "text/plain": [
       "   PassengerId  Pclass                                          Name     Sex  \\\n",
       "0          892       3                              Kelly, Mr. James    male   \n",
       "1          893       3              Wilkes, Mrs. James (Ellen Needs)  female   \n",
       "2          894       2                     Myles, Mr. Thomas Francis    male   \n",
       "3          895       3                              Wirz, Mr. Albert    male   \n",
       "4          896       3  Hirvonen, Mrs. Alexander (Helga E Lindqvist)  female   \n",
       "\n",
       "    Age  SibSp  Parch   Ticket     Fare Cabin Embarked  \n",
       "0  34.5      0      0   330911   7.8292   NaN        Q  \n",
       "1  47.0      1      0   363272   7.0000   NaN        S  \n",
       "2  62.0      0      0   240276   9.6875   NaN        Q  \n",
       "3  27.0      0      0   315154   8.6625   NaN        S  \n",
       "4  22.0      1      1  3101298  12.2875   NaN        S  "
      ]
     },
     "execution_count": 4,
     "metadata": {},
     "output_type": "execute_result"
    }
   ],
   "source": [
    "pd_test.head()"
   ]
  },
  {
   "cell_type": "code",
   "execution_count": 5,
   "metadata": {},
   "outputs": [
    {
     "name": "stdout",
     "output_type": "stream",
     "text": [
      "pd_train.shape : (891, 12)\n",
      "pd_test.shape : (418, 11)\n"
     ]
    }
   ],
   "source": [
    "print('pd_train.shape :', pd_train.shape)\n",
    "print('pd_test.shape :', pd_test.shape)"
   ]
  },
  {
   "cell_type": "markdown",
   "metadata": {},
   "source": [
    "# 3. 데이터 탐색적 분석(EDA)"
   ]
  },
  {
   "cell_type": "code",
   "execution_count": 6,
   "metadata": {},
   "outputs": [
    {
     "data": {
      "image/png": "[encoded data removed]",
      "text/plain": [
       "<Figure size 720x360 with 2 Axes>"
      ]
     },
     "metadata": {
      "needs_background": "light"
     },
     "output_type": "display_data"
    }
   ],
   "source": [
    "x, y = plt.subplots(1,\n",
    "                    2,\n",
    "                    figsize = (10, 5))\n",
    "pd_train[['Pclass',\n",
    "          'Survived']].groupby(['Pclass']).mean().plot.bar(ax = y[0])\n",
    "y[0].set_title('Survived vs Pclass')\n",
    "sns.countplot('Pclass',\n",
    "              hue = 'Survived',\n",
    "              data = pd_train,\n",
    "              ax = y[1])\n",
    "y[1].set_title('Pclass : Survived vs Dead')\n",
    "plt.show()"
   ]
  },
  {
   "cell_type": "code",
   "execution_count": 7,
   "metadata": {},
   "outputs": [
    {
     "data": {
      "image/png": "[encoded data removed]",
      "text/plain": [
       "<Figure size 720x360 with 2 Axes>"
      ]
     },
     "metadata": {
      "needs_background": "light"
     },
     "output_type": "display_data"
    }
   ],
   "source": [
    "x, y = plt.subplots(1,\n",
    "                    2,\n",
    "                    figsize = (10, 5))\n",
    "pd_train[['Sex',\n",
    "          'Survived']].groupby(['Sex']).mean().plot.bar(ax = y[0])\n",
    "y[0].set_title('Survived vs Sex')\n",
    "sns.countplot('Sex',\n",
    "              hue = 'Survived',\n",
    "              data = pd_train,\n",
    "              ax = y[1])\n",
    "y[1].set_title('Sex : Survived vs Dead')\n",
    "plt.show()"
   ]
  },
  {
   "cell_type": "code",
   "execution_count": 8,
   "metadata": {},
   "outputs": [
    {
     "data": {
      "image/png": "[encoded data removed]",
      "text/plain": [
       "<Figure size 720x360 with 2 Axes>"
      ]
     },
     "metadata": {
      "needs_background": "light"
     },
     "output_type": "display_data"
    }
   ],
   "source": [
    "x, y = plt.subplots(1,\n",
    "                    2,\n",
    "                    figsize = (10, 5))\n",
    "pd_train[['Embarked',\n",
    "          'Survived']].groupby(['Embarked']).mean().plot.bar(ax = y[0])\n",
    "y[0].set_title('Survived vs Embarked')\n",
    "sns.countplot('Embarked',\n",
    "              hue = 'Survived',\n",
    "              data = pd_train,\n",
    "              ax = y[1])\n",
    "y[1].set_title('Embarked : Survived vs Dead')\n",
    "plt.show()"
   ]
  },
  {
   "cell_type": "code",
   "execution_count": 9,
   "metadata": {},
   "outputs": [
    {
     "data": {
      "text/plain": [
       "PassengerId      0\n",
       "Survived         0\n",
       "Pclass           0\n",
       "Name             0\n",
       "Sex              0\n",
       "Age            177\n",
       "SibSp            0\n",
       "Parch            0\n",
       "Ticket           0\n",
       "Fare             0\n",
       "Cabin          687\n",
       "Embarked         2\n",
       "dtype: int64"
      ]
     },
     "execution_count": 9,
     "metadata": {},
     "output_type": "execute_result"
    },
    {
     "data": {
      "image/png": "[encoded data removed]",
      "text/plain": [
       "<Figure size 720x360 with 3 Axes>"
      ]
     },
     "metadata": {
      "needs_background": "light"
     },
     "output_type": "display_data"
    }
   ],
   "source": [
    "msno.bar(df = pd_train,\n",
    "         figsize = (10, 5))\n",
    "pd_train.isnull().sum()"
   ]
  },
  {
   "cell_type": "code",
   "execution_count": 10,
   "metadata": {},
   "outputs": [
    {
     "data": {
      "text/plain": [
       "PassengerId      0\n",
       "Pclass           0\n",
       "Name             0\n",
       "Sex              0\n",
       "Age             86\n",
       "SibSp            0\n",
       "Parch            0\n",
       "Ticket           0\n",
       "Fare             1\n",
       "Cabin          327\n",
       "Embarked         0\n",
       "dtype: int64"
      ]
     },
     "execution_count": 10,
     "metadata": {},
     "output_type": "execute_result"
    },
    {
     "data": {
      "image/png": "[encoded data removed]",
      "text/plain": [
       "<Figure size 720x360 with 3 Axes>"
      ]
     },
     "metadata": {
      "needs_background": "light"
     },
     "output_type": "display_data"
    }
   ],
   "source": [
    "msno.bar(df = pd_test,\n",
    "         figsize = (10, 5))\n",
    "pd_test.isnull().sum()"
   ]
  },
  {
   "cell_type": "markdown",
   "metadata": {},
   "source": [
    "# 4. 데이터 전처리"
   ]
  },
  {
   "cell_type": "markdown",
   "metadata": {},
   "source": [
    "# 4.1 결측값을 해결하는 첫 번째 방법\n",
    "- 결측값이 있는 행 전체 삭제"
   ]
  },
  {
   "cell_type": "code",
   "execution_count": 11,
   "metadata": {},
   "outputs": [],
   "source": [
    "pd_train_a = pd_train.dropna(axis = 0)\n",
    "pd_test_a = pd_test.dropna(axis = 0)"
   ]
  },
  {
   "cell_type": "code",
   "execution_count": 12,
   "metadata": {},
   "outputs": [
    {
     "name": "stdout",
     "output_type": "stream",
     "text": [
      "<class 'pandas.core.frame.DataFrame'>\n",
      "Int64Index: 183 entries, 1 to 889\n",
      "Data columns (total 12 columns):\n",
      "PassengerId    183 non-null int64\n",
      "Survived       183 non-null int64\n",
      "Pclass         183 non-null int64\n",
      "Name           183 non-null object\n",
      "Sex            183 non-null object\n",
      "Age            183 non-null float64\n",
      "SibSp          183 non-null int64\n",
      "Parch          183 non-null int64\n",
      "Ticket         183 non-null object\n",
      "Fare           183 non-null float64\n",
      "Cabin          183 non-null object\n",
      "Embarked       183 non-null object\n",
      "dtypes: float64(2), int64(5), object(5)\n",
      "memory usage: 18.6+ KB\n"
     ]
    }
   ],
   "source": [
    "pd_train_a.info()"
   ]
  },
  {
   "cell_type": "code",
   "execution_count": 13,
   "metadata": {},
   "outputs": [],
   "source": [
    "def name_change_a(df):\n",
    "    df['NameA'] = df['Name'].str.extract('([A-Za-z]+)\\.',\n",
    "                                         expand = False)\n",
    "    df['NameA'] = LE.fit_transform(df['NameA']) \n",
    "    return df\n",
    "\n",
    "pd_train_a = name_change_a(pd_train_a)\n",
    "pd_test_a = name_change_a(pd_test_a)"
   ]
  },
  {
   "cell_type": "code",
   "execution_count": 14,
   "metadata": {},
   "outputs": [],
   "source": [
    "def sex_change_a(df):\n",
    "    df['Sex'] = LE.fit_transform(df['Sex']) \n",
    "    return df\n",
    "\n",
    "pd_train_a = sex_change_a(pd_train_a)\n",
    "pd_test_a = sex_change_a(pd_test_a)"
   ]
  },
  {
   "cell_type": "code",
   "execution_count": 15,
   "metadata": {},
   "outputs": [],
   "source": [
    "def embarked_change_a(df):\n",
    "    df['Embarked'] = LE.fit_transform(df['Embarked']) \n",
    "    return df\n",
    "\n",
    "pd_train_a = embarked_change_a(pd_train_a)\n",
    "pd_test_a = embarked_change_a(pd_test_a)"
   ]
  },
  {
   "cell_type": "code",
   "execution_count": 16,
   "metadata": {},
   "outputs": [],
   "source": [
    "def cabin_change_a(df):\n",
    "    df['CabinA'] = df['Cabin'].str.extract('([A-Z]+)',\n",
    "                                           expand = False)\n",
    "    df['CabinA'] = LE.fit_transform(df['CabinA'])     \n",
    "    return df\n",
    "\n",
    "pd_train_a = cabin_change_a(pd_train_a)\n",
    "pd_test_a = cabin_change_a(pd_test_a)"
   ]
  },
  {
   "cell_type": "code",
   "execution_count": 17,
   "metadata": {},
   "outputs": [
    {
     "data": {
      "text/plain": [
       "PassengerId    0\n",
       "Survived       0\n",
       "Pclass         0\n",
       "Name           0\n",
       "Sex            0\n",
       "Age            0\n",
       "SibSp          0\n",
       "Parch          0\n",
       "Ticket         0\n",
       "Fare           0\n",
       "Cabin          0\n",
       "Embarked       0\n",
       "NameA          0\n",
       "CabinA         0\n",
       "dtype: int64"
      ]
     },
     "execution_count": 17,
     "metadata": {},
     "output_type": "execute_result"
    },
    {
     "data": {
      "image/png": "[encoded data removed]",
      "text/plain": [
       "<Figure size 720x360 with 3 Axes>"
      ]
     },
     "metadata": {
      "needs_background": "light"
     },
     "output_type": "display_data"
    }
   ],
   "source": [
    "msno.bar(df = pd_train_a,\n",
    "         figsize = (10, 5))\n",
    "pd_train_a.isnull().sum()"
   ]
  },
  {
   "cell_type": "code",
   "execution_count": 18,
   "metadata": {},
   "outputs": [
    {
     "data": {
      "text/plain": [
       "PassengerId    0\n",
       "Pclass         0\n",
       "Name           0\n",
       "Sex            0\n",
       "Age            0\n",
       "SibSp          0\n",
       "Parch          0\n",
       "Ticket         0\n",
       "Fare           0\n",
       "Cabin          0\n",
       "Embarked       0\n",
       "NameA          0\n",
       "CabinA         0\n",
       "dtype: int64"
      ]
     },
     "execution_count": 18,
     "metadata": {},
     "output_type": "execute_result"
    },
    {
     "data": {
      "image/png": "[encoded data removed]",
      "text/plain": [
       "<Figure size 720x360 with 3 Axes>"
      ]
     },
     "metadata": {
      "needs_background": "light"
     },
     "output_type": "display_data"
    }
   ],
   "source": [
    "msno.bar(df = pd_test_a,\n",
    "         figsize = (10, 5))\n",
    "pd_test_a.isnull().sum()"
   ]
  },
  {
   "cell_type": "code",
   "execution_count": 19,
   "metadata": {},
   "outputs": [
    {
     "name": "stdout",
     "output_type": "stream",
     "text": [
      "<class 'pandas.core.frame.DataFrame'>\n",
      "Int64Index: 183 entries, 1 to 889\n",
      "Data columns (total 14 columns):\n",
      "PassengerId    183 non-null int64\n",
      "Survived       183 non-null int64\n",
      "Pclass         183 non-null int64\n",
      "Name           183 non-null object\n",
      "Sex            183 non-null int32\n",
      "Age            183 non-null float64\n",
      "SibSp          183 non-null int64\n",
      "Parch          183 non-null int64\n",
      "Ticket         183 non-null object\n",
      "Fare           183 non-null float64\n",
      "Cabin          183 non-null object\n",
      "Embarked       183 non-null int32\n",
      "NameA          183 non-null int32\n",
      "CabinA         183 non-null int32\n",
      "dtypes: float64(2), int32(4), int64(5), object(3)\n",
      "memory usage: 18.6+ KB\n"
     ]
    }
   ],
   "source": [
    "pd_train_a.info()"
   ]
  },
  {
   "cell_type": "markdown",
   "metadata": {},
   "source": [
    "# 4.2 결측값을 해결하는 두 번째 방법\n",
    "- 대표값으로 결측값 대체"
   ]
  },
  {
   "cell_type": "code",
   "execution_count": 20,
   "metadata": {},
   "outputs": [],
   "source": [
    "pd_train_b = pd_train.copy()\n",
    "pd_test_b = pd_test.copy()"
   ]
  },
  {
   "cell_type": "code",
   "execution_count": 21,
   "metadata": {},
   "outputs": [
    {
     "name": "stdout",
     "output_type": "stream",
     "text": [
      "<class 'pandas.core.frame.DataFrame'>\n",
      "RangeIndex: 891 entries, 0 to 890\n",
      "Data columns (total 12 columns):\n",
      "PassengerId    891 non-null int64\n",
      "Survived       891 non-null int64\n",
      "Pclass         891 non-null int64\n",
      "Name           891 non-null object\n",
      "Sex            891 non-null object\n",
      "Age            714 non-null float64\n",
      "SibSp          891 non-null int64\n",
      "Parch          891 non-null int64\n",
      "Ticket         891 non-null object\n",
      "Fare           891 non-null float64\n",
      "Cabin          204 non-null object\n",
      "Embarked       889 non-null object\n",
      "dtypes: float64(2), int64(5), object(5)\n",
      "memory usage: 83.7+ KB\n"
     ]
    }
   ],
   "source": [
    "pd_train_b.info()"
   ]
  },
  {
   "cell_type": "code",
   "execution_count": 22,
   "metadata": {},
   "outputs": [],
   "source": [
    "def name_change_b(df):\n",
    "    df['NameA'] = df['Name'].str.extract('([A-Za-z]+)\\.',\n",
    "                                         expand = False)    \n",
    "    df['NameA'] = LE.fit_transform(df['NameA'])     \n",
    "    return df\n",
    "\n",
    "pd_train_b = name_change_b(pd_train_b)\n",
    "pd_test_b = name_change_b(pd_test_b)"
   ]
  },
  {
   "cell_type": "code",
   "execution_count": 23,
   "metadata": {},
   "outputs": [],
   "source": [
    "def sex_change_b(df):\n",
    "    df['Sex'] = LE.fit_transform(df['Sex']) \n",
    "    return df\n",
    "\n",
    "pd_train_b = sex_change_b(pd_train_b)\n",
    "pd_test_b = sex_change_b(pd_test_b)"
   ]
  },
  {
   "cell_type": "code",
   "execution_count": 24,
   "metadata": {},
   "outputs": [
    {
     "data": {
      "text/plain": [
       "S    644\n",
       "C    168\n",
       "Q     77\n",
       "Name: Embarked, dtype: int64"
      ]
     },
     "execution_count": 24,
     "metadata": {},
     "output_type": "execute_result"
    }
   ],
   "source": [
    "pd_train_b.Embarked.value_counts()"
   ]
  },
  {
   "cell_type": "code",
   "execution_count": 25,
   "metadata": {},
   "outputs": [],
   "source": [
    "pd_train_b.Embarked = pd_train_b.Embarked.fillna('S')"
   ]
  },
  {
   "cell_type": "code",
   "execution_count": 26,
   "metadata": {},
   "outputs": [],
   "source": [
    "def embarked_change_b(df):\n",
    "    df['Embarked'] = LE.fit_transform(df['Embarked']) \n",
    "    return df\n",
    "\n",
    "pd_train_b = embarked_change_b(pd_train_b)\n",
    "pd_test_b = embarked_change_b(pd_test_b)"
   ]
  },
  {
   "cell_type": "code",
   "execution_count": 27,
   "metadata": {},
   "outputs": [
    {
     "data": {
      "text/plain": [
       "count    714.000000\n",
       "mean      29.699118\n",
       "std       14.526497\n",
       "min        0.420000\n",
       "25%       20.125000\n",
       "50%       28.000000\n",
       "75%       38.000000\n",
       "max       80.000000\n",
       "Name: Age, dtype: float64"
      ]
     },
     "execution_count": 27,
     "metadata": {},
     "output_type": "execute_result"
    }
   ],
   "source": [
    "pd_train_b.Age.describe()"
   ]
  },
  {
   "cell_type": "code",
   "execution_count": 28,
   "metadata": {},
   "outputs": [],
   "source": [
    "def process_age_b(df):\n",
    "    df['Age'] = df['Age'].fillna(pd_train_b.Pclass.mean())\n",
    "    return df\n",
    "\n",
    "pd_train_b = process_age_b(pd_train_b)\n",
    "pd_test_b = process_age_b(pd_test_b)"
   ]
  },
  {
   "cell_type": "code",
   "execution_count": 29,
   "metadata": {},
   "outputs": [],
   "source": [
    "def cabin_change_b(df):\n",
    "    df['CabinA'] = df['Cabin'].str.extract('([A-Z]+)',\n",
    "                                           expand = False)\n",
    "    return df\n",
    "\n",
    "pd_train_b = cabin_change_b(pd_train_b)\n",
    "pd_test_b = cabin_change_b(pd_test_b)"
   ]
  },
  {
   "cell_type": "code",
   "execution_count": 30,
   "metadata": {},
   "outputs": [
    {
     "data": {
      "text/plain": [
       "C    59\n",
       "B    47\n",
       "D    33\n",
       "E    32\n",
       "A    15\n",
       "F    13\n",
       "G     4\n",
       "T     1\n",
       "Name: CabinA, dtype: int64"
      ]
     },
     "execution_count": 30,
     "metadata": {},
     "output_type": "execute_result"
    }
   ],
   "source": [
    "pd_train_b.CabinA.value_counts()"
   ]
  },
  {
   "cell_type": "code",
   "execution_count": 31,
   "metadata": {},
   "outputs": [],
   "source": [
    "pd_train_b.CabinA = pd_train_b.Cabin.fillna('C')"
   ]
  },
  {
   "cell_type": "code",
   "execution_count": 32,
   "metadata": {},
   "outputs": [
    {
     "data": {
      "text/plain": [
       "C    35\n",
       "B    18\n",
       "D    13\n",
       "E     9\n",
       "F     8\n",
       "A     7\n",
       "G     1\n",
       "Name: CabinA, dtype: int64"
      ]
     },
     "execution_count": 32,
     "metadata": {},
     "output_type": "execute_result"
    }
   ],
   "source": [
    "pd_test_b.CabinA.value_counts()"
   ]
  },
  {
   "cell_type": "code",
   "execution_count": 33,
   "metadata": {},
   "outputs": [],
   "source": [
    "pd_test_b.CabinA = pd_test_b.Cabin.fillna('C')"
   ]
  },
  {
   "cell_type": "code",
   "execution_count": 34,
   "metadata": {},
   "outputs": [],
   "source": [
    "def cabin_change_b(df):\n",
    "    df['CabinA'] = LE.fit_transform(df['CabinA']) \n",
    "    return df\n",
    "\n",
    "pd_train_b = cabin_change_b(pd_train_b)\n",
    "pd_test_b = cabin_change_b(pd_test_b)"
   ]
  },
  {
   "cell_type": "code",
   "execution_count": 35,
   "metadata": {},
   "outputs": [
    {
     "data": {
      "text/plain": [
       "count    417.000000\n",
       "mean      35.627188\n",
       "std       55.907576\n",
       "min        0.000000\n",
       "25%        7.895800\n",
       "50%       14.454200\n",
       "75%       31.500000\n",
       "max      512.329200\n",
       "Name: Fare, dtype: float64"
      ]
     },
     "execution_count": 35,
     "metadata": {},
     "output_type": "execute_result"
    }
   ],
   "source": [
    "pd_test_b.Fare.describe()"
   ]
  },
  {
   "cell_type": "code",
   "execution_count": 36,
   "metadata": {},
   "outputs": [],
   "source": [
    "pd_test_b['Fare'].fillna(pd_test_b.groupby('Pclass')['Fare'].transform('median'),\n",
    "                         inplace = True)"
   ]
  },
  {
   "cell_type": "code",
   "execution_count": 37,
   "metadata": {},
   "outputs": [
    {
     "data": {
      "text/plain": [
       "PassengerId      0\n",
       "Survived         0\n",
       "Pclass           0\n",
       "Name             0\n",
       "Sex              0\n",
       "Age              0\n",
       "SibSp            0\n",
       "Parch            0\n",
       "Ticket           0\n",
       "Fare             0\n",
       "Cabin          687\n",
       "Embarked         0\n",
       "NameA            0\n",
       "CabinA           0\n",
       "dtype: int64"
      ]
     },
     "execution_count": 37,
     "metadata": {},
     "output_type": "execute_result"
    },
    {
     "data": {
      "image/png": "[encoded data removed]",
      "text/plain": [
       "<Figure size 720x360 with 3 Axes>"
      ]
     },
     "metadata": {
      "needs_background": "light"
     },
     "output_type": "display_data"
    }
   ],
   "source": [
    "msno.bar(df = pd_train_b,\n",
    "         figsize = (10, 5))\n",
    "pd_train_b.isnull().sum()"
   ]
  },
  {
   "cell_type": "code",
   "execution_count": 38,
   "metadata": {},
   "outputs": [
    {
     "data": {
      "text/plain": [
       "PassengerId      0\n",
       "Pclass           0\n",
       "Name             0\n",
       "Sex              0\n",
       "Age              0\n",
       "SibSp            0\n",
       "Parch            0\n",
       "Ticket           0\n",
       "Fare             0\n",
       "Cabin          327\n",
       "Embarked         0\n",
       "NameA            0\n",
       "CabinA           0\n",
       "dtype: int64"
      ]
     },
     "execution_count": 38,
     "metadata": {},
     "output_type": "execute_result"
    },
    {
     "data": {
      "image/png": "[encoded data removed]",
      "text/plain": [
       "<Figure size 720x360 with 3 Axes>"
      ]
     },
     "metadata": {
      "needs_background": "light"
     },
     "output_type": "display_data"
    }
   ],
   "source": [
    "msno.bar(df = pd_test_b,\n",
    "         figsize = (10, 5))\n",
    "pd_test_b.isnull().sum()"
   ]
  },
  {
   "cell_type": "code",
   "execution_count": 39,
   "metadata": {},
   "outputs": [
    {
     "name": "stdout",
     "output_type": "stream",
     "text": [
      "<class 'pandas.core.frame.DataFrame'>\n",
      "RangeIndex: 891 entries, 0 to 890\n",
      "Data columns (total 14 columns):\n",
      "PassengerId    891 non-null int64\n",
      "Survived       891 non-null int64\n",
      "Pclass         891 non-null int64\n",
      "Name           891 non-null object\n",
      "Sex            891 non-null int32\n",
      "Age            891 non-null float64\n",
      "SibSp          891 non-null int64\n",
      "Parch          891 non-null int64\n",
      "Ticket         891 non-null object\n",
      "Fare           891 non-null float64\n",
      "Cabin          204 non-null object\n",
      "Embarked       891 non-null int32\n",
      "NameA          891 non-null int32\n",
      "CabinA         891 non-null int32\n",
      "dtypes: float64(2), int32(4), int64(5), object(3)\n",
      "memory usage: 83.7+ KB\n"
     ]
    }
   ],
   "source": [
    "pd_train_b.info()"
   ]
  },
  {
   "cell_type": "markdown",
   "metadata": {},
   "source": [
    "# 4.3 결측값을 해결하는 세 번째 방법\n",
    "- 상관분석으로 결측값 해결"
   ]
  },
  {
   "cell_type": "code",
   "execution_count": 40,
   "metadata": {},
   "outputs": [],
   "source": [
    "pd_train_c = pd_train.copy()\n",
    "pd_test_c = pd_test.copy()"
   ]
  },
  {
   "cell_type": "code",
   "execution_count": 41,
   "metadata": {},
   "outputs": [
    {
     "name": "stdout",
     "output_type": "stream",
     "text": [
      "<class 'pandas.core.frame.DataFrame'>\n",
      "RangeIndex: 891 entries, 0 to 890\n",
      "Data columns (total 12 columns):\n",
      "PassengerId    891 non-null int64\n",
      "Survived       891 non-null int64\n",
      "Pclass         891 non-null int64\n",
      "Name           891 non-null object\n",
      "Sex            891 non-null object\n",
      "Age            714 non-null float64\n",
      "SibSp          891 non-null int64\n",
      "Parch          891 non-null int64\n",
      "Ticket         891 non-null object\n",
      "Fare           891 non-null float64\n",
      "Cabin          204 non-null object\n",
      "Embarked       889 non-null object\n",
      "dtypes: float64(2), int64(5), object(5)\n",
      "memory usage: 83.7+ KB\n"
     ]
    }
   ],
   "source": [
    "pd_train_c.info()"
   ]
  },
  {
   "cell_type": "code",
   "execution_count": 42,
   "metadata": {},
   "outputs": [],
   "source": [
    "def name_change_c(df):\n",
    "    df['NameA'] = df['Name'].str.extract('([A-Za-z]+)\\.',\n",
    "                                         expand = False)\n",
    "    df['NameA'] = LE.fit_transform(df['NameA'])     \n",
    "    return df\n",
    "\n",
    "pd_train_c = name_change_c(pd_train_c)\n",
    "pd_test_c = name_change_c(pd_test_c)"
   ]
  },
  {
   "cell_type": "code",
   "execution_count": 43,
   "metadata": {},
   "outputs": [],
   "source": [
    "def sex_change_c(df):\n",
    "    df['Sex'] = LE.fit_transform(df['Sex']) \n",
    "    return df\n",
    "\n",
    "pd_train_c = sex_change_b(pd_train_c)\n",
    "pd_test_c = sex_change_b(pd_test_c)"
   ]
  },
  {
   "cell_type": "code",
   "execution_count": 44,
   "metadata": {},
   "outputs": [
    {
     "data": {
      "text/plain": [
       "S    644\n",
       "C    168\n",
       "Q     77\n",
       "Name: Embarked, dtype: int64"
      ]
     },
     "execution_count": 44,
     "metadata": {},
     "output_type": "execute_result"
    }
   ],
   "source": [
    "pd_train_c.Embarked.value_counts()"
   ]
  },
  {
   "cell_type": "code",
   "execution_count": 45,
   "metadata": {},
   "outputs": [],
   "source": [
    "embarked_change_C = {'S' : 1,\n",
    "                     'C' : 2,\n",
    "                     'Q' : 3}\n",
    "\n",
    "pd_train_c['Embarked'] = pd_train_c['Embarked'].map(embarked_change_C)\n",
    "pd_test_c['Embarked'] = pd_test_c['Embarked'].map(embarked_change_C)"
   ]
  },
  {
   "cell_type": "code",
   "execution_count": 46,
   "metadata": {},
   "outputs": [],
   "source": [
    "def cabin_change_c(df):\n",
    "    df['CabinA'] = df['Cabin'].str.extract('([A-Z]+)',\n",
    "                                           expand = False)\n",
    "    return df\n",
    "\n",
    "pd_train_c = cabin_change_c(pd_train_c)\n",
    "pd_test_c = cabin_change_c(pd_test_c)"
   ]
  },
  {
   "cell_type": "code",
   "execution_count": 47,
   "metadata": {},
   "outputs": [
    {
     "data": {
      "text/plain": [
       "C    59\n",
       "B    47\n",
       "D    33\n",
       "E    32\n",
       "A    15\n",
       "F    13\n",
       "G     4\n",
       "T     1\n",
       "Name: CabinA, dtype: int64"
      ]
     },
     "execution_count": 47,
     "metadata": {},
     "output_type": "execute_result"
    }
   ],
   "source": [
    "pd_train_c.CabinA.value_counts()"
   ]
  },
  {
   "cell_type": "code",
   "execution_count": 48,
   "metadata": {},
   "outputs": [
    {
     "data": {
      "text/plain": [
       "C    35\n",
       "B    18\n",
       "D    13\n",
       "E     9\n",
       "F     8\n",
       "A     7\n",
       "G     1\n",
       "Name: CabinA, dtype: int64"
      ]
     },
     "execution_count": 48,
     "metadata": {},
     "output_type": "execute_result"
    }
   ],
   "source": [
    "pd_test_c.CabinA.value_counts()"
   ]
  },
  {
   "cell_type": "code",
   "execution_count": 49,
   "metadata": {},
   "outputs": [],
   "source": [
    "cabin_change_C = {'C' : 1,\n",
    "                  'B' : 2,\n",
    "                  'D' : 3,\n",
    "                  'E' : 4,\n",
    "                  'A' : 5,\n",
    "                  'F' : 6,\n",
    "                  'G' : 7,\n",
    "                  'T' : 8}\n",
    "\n",
    "pd_train_c['CabinA'] = pd_train_c['CabinA'].map(cabin_change_C)\n",
    "pd_test_c['CabinA'] = pd_test_c['CabinA'].map(cabin_change_C)"
   ]
  },
  {
   "cell_type": "code",
   "execution_count": 50,
   "metadata": {},
   "outputs": [
    {
     "data": {
      "text/plain": [
       "<matplotlib.axes._subplots.AxesSubplot at 0x1f059d24320>"
      ]
     },
     "execution_count": 50,
     "metadata": {},
     "output_type": "execute_result"
    },
    {
     "data": {
      "image/png": "[encoded data removed]",
      "text/plain": [
       "<Figure size 720x720 with 2 Axes>"
      ]
     },
     "metadata": {
      "needs_background": "light"
     },
     "output_type": "display_data"
    }
   ],
   "source": [
    "plt.figure(figsize = (10, 10))\n",
    "sns.heatmap(data = pd_train_c.corr(),\n",
    "            annot = True,\n",
    "            fmt = '.2f',\n",
    "            linewidths = .5,\n",
    "            cmap = 'Blues')"
   ]
  },
  {
   "cell_type": "code",
   "execution_count": 51,
   "metadata": {},
   "outputs": [
    {
     "data": {
      "text/plain": [
       "<matplotlib.axes._subplots.AxesSubplot at 0x1f05a21c9e8>"
      ]
     },
     "execution_count": 51,
     "metadata": {},
     "output_type": "execute_result"
    },
    {
     "data": {
      "image/png": "[encoded data removed]",
      "text/plain": [
       "<Figure size 720x720 with 2 Axes>"
      ]
     },
     "metadata": {
      "needs_background": "light"
     },
     "output_type": "display_data"
    }
   ],
   "source": [
    "plt.figure(figsize = (10, 10))\n",
    "sns.heatmap(data = pd_test_c.corr(),\n",
    "            annot = True,\n",
    "            fmt = '.2f',\n",
    "            linewidths = .5,\n",
    "            cmap = 'Blues')"
   ]
  },
  {
   "cell_type": "code",
   "execution_count": 52,
   "metadata": {},
   "outputs": [],
   "source": [
    "corr_1 = lambda x: x.corrwith(x['Pclass']).sort_values().head(5)\n",
    "corr_2 = lambda x: x.corrwith(x['Sex']).sort_values().head(5)\n",
    "corr_3 = lambda x: x.corrwith(x['Age']).sort_values().head(5)\n",
    "corr_4 = lambda x: x.corrwith(x['SibSp']).sort_values().head(5)\n",
    "corr_5 = lambda x: x.corrwith(x['Parch']).sort_values().head(5)\n",
    "corr_6 = lambda x: x.corrwith(x['Fare']).sort_values().head(5)\n",
    "corr_7 = lambda x: x.corrwith(x['Embarked']).sort_values().head(5)\n",
    "corr_8 = lambda x: x.corrwith(x['NameA']).sort_values().head(5)\n",
    "corr_9 = lambda x: x.corrwith(x['CabinA']).sort_values().head(5)"
   ]
  },
  {
   "cell_type": "code",
   "execution_count": 53,
   "metadata": {},
   "outputs": [],
   "source": [
    "corr_1_top = corr_1(pd_train_c)\n",
    "corr_2_top = corr_2(pd_train_c)\n",
    "corr_3_top = corr_3(pd_train_c)\n",
    "corr_4_top = corr_4(pd_train_c)\n",
    "corr_5_top = corr_5(pd_train_c)\n",
    "corr_6_top = corr_6(pd_train_c)\n",
    "corr_7_top = corr_7(pd_train_c)\n",
    "corr_8_top = corr_8(pd_train_c)\n",
    "corr_9_top = corr_9(pd_train_c)"
   ]
  },
  {
   "cell_type": "code",
   "execution_count": 54,
   "metadata": {},
   "outputs": [],
   "source": [
    "def corr_1st(df):\n",
    "    df['Pclass'] = df['Pclass'].fillna(pd_train_c[corr_1_top.index[0]].mean())\n",
    "    df['Sex'] = df['Sex'].fillna(pd_train_c[corr_2_top.index[0]].mean())\n",
    "    df['Age'] = df['Age'].fillna(pd_train_c[corr_3_top.index[0]].mean())\n",
    "    df['SibSp'] = df['SibSp'].fillna(pd_train_c[corr_4_top.index[0]].mean())\n",
    "    df['Parch'] = df['Parch'].fillna(pd_train_c[corr_5_top.index[0]].mean())\n",
    "    df['Fare'] = df['Fare'].fillna(pd_train_c[corr_6_top.index[0]].mean())\n",
    "    df['Embarked'] = df['Embarked'].fillna(pd_train_c[corr_7_top.index[0]].mean())\n",
    "    df['NameA'] = df['NameA'].fillna(pd_train_c[corr_8_top.index[0]].mean())\n",
    "    df['CabinA'] = df['CabinA'].fillna(pd_train_c[corr_9_top.index[0]].mean())\n",
    "    return df\n",
    "\n",
    "pd_train_c = corr_1st(pd_train_c)\n",
    "pd_test_c = corr_1st(pd_test_c)"
   ]
  },
  {
   "cell_type": "code",
   "execution_count": 55,
   "metadata": {},
   "outputs": [
    {
     "data": {
      "text/plain": [
       "PassengerId      0\n",
       "Survived         0\n",
       "Pclass           0\n",
       "Name             0\n",
       "Sex              0\n",
       "Age              0\n",
       "SibSp            0\n",
       "Parch            0\n",
       "Ticket           0\n",
       "Fare             0\n",
       "Cabin          687\n",
       "Embarked         0\n",
       "NameA            0\n",
       "CabinA           0\n",
       "dtype: int64"
      ]
     },
     "execution_count": 55,
     "metadata": {},
     "output_type": "execute_result"
    },
    {
     "data": {
      "image/png": "[encoded data removed]",
      "text/plain": [
       "<Figure size 720x360 with 3 Axes>"
      ]
     },
     "metadata": {
      "needs_background": "light"
     },
     "output_type": "display_data"
    }
   ],
   "source": [
    "msno.bar(df = pd_train_c,\n",
    "         figsize = (10, 5))\n",
    "pd_train_c.isnull().sum()"
   ]
  },
  {
   "cell_type": "code",
   "execution_count": 56,
   "metadata": {},
   "outputs": [
    {
     "data": {
      "text/plain": [
       "PassengerId      0\n",
       "Pclass           0\n",
       "Name             0\n",
       "Sex              0\n",
       "Age              0\n",
       "SibSp            0\n",
       "Parch            0\n",
       "Ticket           0\n",
       "Fare             0\n",
       "Cabin          327\n",
       "Embarked         0\n",
       "NameA            0\n",
       "CabinA           0\n",
       "dtype: int64"
      ]
     },
     "execution_count": 56,
     "metadata": {},
     "output_type": "execute_result"
    },
    {
     "data": {
      "image/png": "[encoded data removed]",
      "text/plain": [
       "<Figure size 720x360 with 3 Axes>"
      ]
     },
     "metadata": {
      "needs_background": "light"
     },
     "output_type": "display_data"
    }
   ],
   "source": [
    "msno.bar(df = pd_test_c,\n",
    "         figsize = (10, 5))\n",
    "pd_test_c.isnull().sum()"
   ]
  },
  {
   "cell_type": "code",
   "execution_count": 57,
   "metadata": {},
   "outputs": [
    {
     "name": "stdout",
     "output_type": "stream",
     "text": [
      "<class 'pandas.core.frame.DataFrame'>\n",
      "RangeIndex: 891 entries, 0 to 890\n",
      "Data columns (total 14 columns):\n",
      "PassengerId    891 non-null int64\n",
      "Survived       891 non-null int64\n",
      "Pclass         891 non-null int64\n",
      "Name           891 non-null object\n",
      "Sex            891 non-null int32\n",
      "Age            891 non-null float64\n",
      "SibSp          891 non-null int64\n",
      "Parch          891 non-null int64\n",
      "Ticket         891 non-null object\n",
      "Fare           891 non-null float64\n",
      "Cabin          204 non-null object\n",
      "Embarked       891 non-null float64\n",
      "NameA          891 non-null int32\n",
      "CabinA         891 non-null float64\n",
      "dtypes: float64(4), int32(2), int64(5), object(3)\n",
      "memory usage: 90.6+ KB\n"
     ]
    }
   ],
   "source": [
    "pd_train_c.info()"
   ]
  },
  {
   "cell_type": "markdown",
   "metadata": {},
   "source": [
    "# 5. 모델링"
   ]
  },
  {
   "cell_type": "markdown",
   "metadata": {},
   "source": [
    "# 5.1 첫 번째 방법"
   ]
  },
  {
   "cell_type": "code",
   "execution_count": 58,
   "metadata": {},
   "outputs": [],
   "source": [
    "target_a = pd_train_a[['Survived']]\n",
    "feature_a = pd_train_a[['Pclass',\n",
    "                        'Age',\n",
    "                        'Sex',\n",
    "                        'SibSp',\n",
    "                        'Parch',\n",
    "                        'Embarked',\n",
    "                        'NameA',\n",
    "                        'CabinA',\n",
    "                        'Fare']]"
   ]
  },
  {
   "cell_type": "code",
   "execution_count": 59,
   "metadata": {},
   "outputs": [
    {
     "name": "stdout",
     "output_type": "stream",
     "text": [
      "(128, 9) (55, 9) (128, 1) (55, 1)\n"
     ]
    }
   ],
   "source": [
    "X_train, X_val, y_train, y_val = train_test_split(feature_a,\n",
    "                                                  target_a,\n",
    "                                                  test_size = 0.3)\n",
    "\n",
    "print(X_train.shape,\n",
    "      X_val.shape,\n",
    "      y_train.shape,\n",
    "      y_val.shape)"
   ]
  },
  {
   "cell_type": "code",
   "execution_count": 60,
   "metadata": {},
   "outputs": [
    {
     "name": "stdout",
     "output_type": "stream",
     "text": [
      "              precision    recall  f1-score   support\n",
      "\n",
      "           0       1.00      0.12      0.21        17\n",
      "           1       0.72      1.00      0.84        38\n",
      "\n",
      "    accuracy                           0.73        55\n",
      "   macro avg       0.86      0.56      0.52        55\n",
      "weighted avg       0.80      0.73      0.64        55\n",
      "\n",
      "Accuracy for SupportVectorMachine : 0.7272727272727273\n"
     ]
    }
   ],
   "source": [
    "a_supportvectormachine_no_gridsearch = SVC()\n",
    "a_supportvectormachine_no_gridsearch.fit(X_train,\n",
    "                                         y_train)\n",
    "a_supportvectormachine_no_gridsearch_predict = a_supportvectormachine_no_gridsearch.predict(X_val)\n",
    "a_supportvectormachine_no_gridsearch_score = a_supportvectormachine_no_gridsearch.score(X_val,\n",
    "                                                                                        y_val)\n",
    "print(metrics.classification_report(y_val,\n",
    "                                    a_supportvectormachine_no_gridsearch_predict))\n",
    "print('Accuracy for SupportVectorMachine :', accuracy_score(y_val,\n",
    "                                                            a_supportvectormachine_no_gridsearch_predict))"
   ]
  },
  {
   "cell_type": "code",
   "execution_count": 61,
   "metadata": {},
   "outputs": [
    {
     "name": "stdout",
     "output_type": "stream",
     "text": [
      "              precision    recall  f1-score   support\n",
      "\n",
      "           0       0.24      0.53      0.33        17\n",
      "           1       0.56      0.26      0.36        38\n",
      "\n",
      "    accuracy                           0.35        55\n",
      "   macro avg       0.40      0.40      0.35        55\n",
      "weighted avg       0.46      0.35      0.35        55\n",
      "\n",
      "Accuracy for Perceptron : 0.34545454545454546\n"
     ]
    }
   ],
   "source": [
    "a_perceptron_no_gridsearch = Perceptron()\n",
    "a_perceptron_no_gridsearch.fit(X_train,\n",
    "                               y_train)\n",
    "a_perceptron_no_gridsearch_predict = a_perceptron_no_gridsearch.predict(X_val)\n",
    "a_perceptron_no_gridsearch_score = a_perceptron_no_gridsearch.score(X_val,\n",
    "                                                                    y_val)\n",
    "print(metrics.classification_report(y_val,\n",
    "                                    a_perceptron_no_gridsearch_predict))\n",
    "print('Accuracy for Perceptron :', accuracy_score(y_val,\n",
    "                                                  a_perceptron_no_gridsearch_predict))"
   ]
  },
  {
   "cell_type": "code",
   "execution_count": 62,
   "metadata": {},
   "outputs": [
    {
     "name": "stdout",
     "output_type": "stream",
     "text": [
      "              precision    recall  f1-score   support\n",
      "\n",
      "           0       0.44      0.47      0.46        17\n",
      "           1       0.76      0.74      0.75        38\n",
      "\n",
      "    accuracy                           0.65        55\n",
      "   macro avg       0.60      0.60      0.60        55\n",
      "weighted avg       0.66      0.65      0.66        55\n",
      "\n",
      "Accuracy for MultiLayerPerceptron : 0.6545454545454545\n"
     ]
    }
   ],
   "source": [
    "a_multilayerperceptron_no_gridsearch = MLPClassifier()\n",
    "a_multilayerperceptron_no_gridsearch.fit(X_train,\n",
    "                                         y_train)\n",
    "a_multilayerperceptron_no_gridsearch_predict = a_multilayerperceptron_no_gridsearch.predict(X_val)\n",
    "a_multilayerperceptron_no_gridsearch_score = a_multilayerperceptron_no_gridsearch.score(X_val,\n",
    "                                                                                        y_val)\n",
    "print(metrics.classification_report(y_val,\n",
    "                                    a_multilayerperceptron_no_gridsearch_predict))\n",
    "print('Accuracy for MultiLayerPerceptron :', accuracy_score(y_val,\n",
    "                                                            a_multilayerperceptron_no_gridsearch_predict))"
   ]
  },
  {
   "cell_type": "code",
   "execution_count": 63,
   "metadata": {},
   "outputs": [
    {
     "name": "stdout",
     "output_type": "stream",
     "text": [
      "              precision    recall  f1-score   support\n",
      "\n",
      "           0       0.60      0.71      0.65        17\n",
      "           1       0.86      0.79      0.82        38\n",
      "\n",
      "    accuracy                           0.76        55\n",
      "   macro avg       0.73      0.75      0.74        55\n",
      "weighted avg       0.78      0.76      0.77        55\n",
      "\n",
      "Accuracy for DecisionTree : 0.7636363636363637\n"
     ]
    }
   ],
   "source": [
    "a_decisiontree_no_gridsearch = DecisionTreeClassifier()\n",
    "a_decisiontree_no_gridsearch.fit(X_train,\n",
    "                                 y_train)\n",
    "a_decisiontree_no_gridsearch_predict = a_decisiontree_no_gridsearch.predict(X_val)\n",
    "a_decisiontree_no_gridsearch_score = a_decisiontree_no_gridsearch.score(X_val,\n",
    "                                                                        y_val)\n",
    "print(metrics.classification_report(y_val,\n",
    "                                    a_decisiontree_no_gridsearch_predict))\n",
    "print('Accuracy for DecisionTree :', accuracy_score(y_val,\n",
    "                                                    a_decisiontree_no_gridsearch_predict))"
   ]
  },
  {
   "cell_type": "code",
   "execution_count": 64,
   "metadata": {},
   "outputs": [
    {
     "name": "stdout",
     "output_type": "stream",
     "text": [
      "              precision    recall  f1-score   support\n",
      "\n",
      "           0       0.50      0.29      0.37        17\n",
      "           1       0.73      0.87      0.80        38\n",
      "\n",
      "    accuracy                           0.69        55\n",
      "   macro avg       0.62      0.58      0.58        55\n",
      "weighted avg       0.66      0.69      0.66        55\n",
      "\n",
      "Accuracy for KNearestNeighbors : 0.6909090909090909\n"
     ]
    }
   ],
   "source": [
    "a_knearestneighbors_no_gridsearch = KNeighborsClassifier()\n",
    "a_knearestneighbors_no_gridsearch.fit(X_train,\n",
    "                                      y_train)\n",
    "a_knearestneighbors_no_gridsearch_predict = a_knearestneighbors_no_gridsearch.predict(X_val)\n",
    "a_knearestneighbors_no_gridsearch_score = a_knearestneighbors_no_gridsearch.score(X_val,\n",
    "                                                                                  y_val)\n",
    "print(metrics.classification_report(y_val,\n",
    "                                    a_knearestneighbors_no_gridsearch_predict))\n",
    "print('Accuracy for KNearestNeighbors :', accuracy_score(y_val,\n",
    "                                                         a_knearestneighbors_no_gridsearch_predict))"
   ]
  },
  {
   "cell_type": "code",
   "execution_count": 65,
   "metadata": {},
   "outputs": [
    {
     "name": "stdout",
     "output_type": "stream",
     "text": [
      "              precision    recall  f1-score   support\n",
      "\n",
      "           0       0.59      0.59      0.59        17\n",
      "           1       0.82      0.82      0.82        38\n",
      "\n",
      "    accuracy                           0.75        55\n",
      "   macro avg       0.70      0.70      0.70        55\n",
      "weighted avg       0.75      0.75      0.75        55\n",
      "\n",
      "Accuracy for RandomForest : 0.7454545454545455\n"
     ]
    }
   ],
   "source": [
    "a_randomforest_no_gridsearch = RandomForestClassifier()\n",
    "a_randomforest_no_gridsearch.fit(X_train,\n",
    "                                 y_train)\n",
    "a_randomforest_no_gridsearch_predict = a_randomforest_no_gridsearch.predict(X_val)\n",
    "a_randomforest_no_gridsearch_score = a_randomforest_no_gridsearch.score(X_val,\n",
    "                                                                        y_val)\n",
    "print(metrics.classification_report(y_val,\n",
    "                                    a_randomforest_no_gridsearch_predict))\n",
    "print('Accuracy for RandomForest :', accuracy_score(y_val,\n",
    "                                                    a_randomforest_no_gridsearch_predict))"
   ]
  },
  {
   "cell_type": "code",
   "execution_count": 66,
   "metadata": {},
   "outputs": [
    {
     "name": "stdout",
     "output_type": "stream",
     "text": [
      "              precision    recall  f1-score   support\n",
      "\n",
      "           0       0.64      0.53      0.58        17\n",
      "           1       0.80      0.87      0.84        38\n",
      "\n",
      "    accuracy                           0.76        55\n",
      "   macro avg       0.72      0.70      0.71        55\n",
      "weighted avg       0.75      0.76      0.76        55\n",
      "\n",
      "Accuracy for XGBoost : 0.7636363636363637\n"
     ]
    }
   ],
   "source": [
    "a_xgboost_no_gridsearch = XGBClassifier()\n",
    "a_xgboost_no_gridsearch.fit(X_train,\n",
    "                            y_train)\n",
    "a_xgboost_no_gridsearch_predict = a_xgboost_no_gridsearch.predict(X_val)\n",
    "a_xgboost_no_gridsearch_score = a_xgboost_no_gridsearch.score(X_val,\n",
    "                                                              y_val)\n",
    "print(metrics.classification_report(y_val,\n",
    "                                    a_xgboost_no_gridsearch_predict))\n",
    "print('Accuracy for XGBoost :', accuracy_score(y_val,\n",
    "                                               a_xgboost_no_gridsearch_predict))"
   ]
  },
  {
   "cell_type": "markdown",
   "metadata": {},
   "source": [
    "# 5.2 두 번째 방법"
   ]
  },
  {
   "cell_type": "code",
   "execution_count": 67,
   "metadata": {},
   "outputs": [],
   "source": [
    "target_b = pd_train_b[['Survived']]\n",
    "feature_b = pd_train_b[['Pclass',\n",
    "                        'Age',\n",
    "                        'Sex',\n",
    "                        'SibSp',\n",
    "                        'Parch',\n",
    "                        'Embarked',\n",
    "                        'NameA',\n",
    "                        'CabinA',\n",
    "                        'Fare']]"
   ]
  },
  {
   "cell_type": "code",
   "execution_count": 68,
   "metadata": {},
   "outputs": [
    {
     "name": "stdout",
     "output_type": "stream",
     "text": [
      "(623, 9) (268, 9) (623, 1) (268, 1)\n"
     ]
    }
   ],
   "source": [
    "X_train, X_val, y_train, y_val = train_test_split(feature_b,\n",
    "                                                  target_b,\n",
    "                                                  test_size = 0.3)\n",
    "\n",
    "print(X_train.shape,\n",
    "      X_val.shape,\n",
    "      y_train.shape,\n",
    "      y_val.shape)"
   ]
  },
  {
   "cell_type": "code",
   "execution_count": 69,
   "metadata": {},
   "outputs": [
    {
     "name": "stdout",
     "output_type": "stream",
     "text": [
      "              precision    recall  f1-score   support\n",
      "\n",
      "           0       0.70      0.73      0.72       159\n",
      "           1       0.58      0.55      0.57       109\n",
      "\n",
      "    accuracy                           0.66       268\n",
      "   macro avg       0.64      0.64      0.64       268\n",
      "weighted avg       0.65      0.66      0.66       268\n",
      "\n",
      "Accuracy for SupportVectorMachine : 0.6567164179104478\n"
     ]
    }
   ],
   "source": [
    "b_supportvectormachine_no_gridsearch = SVC()\n",
    "b_supportvectormachine_no_gridsearch.fit(X_train,\n",
    "                                         y_train)\n",
    "b_supportvectormachine_no_gridsearch_predict = b_supportvectormachine_no_gridsearch.predict(X_val)\n",
    "b_supportvectormachine_no_gridsearch_score = b_supportvectormachine_no_gridsearch.score(X_val,\n",
    "                                                                                        y_val)\n",
    "print(metrics.classification_report(y_val,\n",
    "                                    b_supportvectormachine_no_gridsearch_predict))\n",
    "print('Accuracy for SupportVectorMachine :', accuracy_score(y_val,\n",
    "                                                            b_supportvectormachine_no_gridsearch_predict))"
   ]
  },
  {
   "cell_type": "code",
   "execution_count": 70,
   "metadata": {},
   "outputs": [
    {
     "name": "stdout",
     "output_type": "stream",
     "text": [
      "              precision    recall  f1-score   support\n",
      "\n",
      "           0       0.66      0.87      0.75       159\n",
      "           1       0.64      0.35      0.45       109\n",
      "\n",
      "    accuracy                           0.66       268\n",
      "   macro avg       0.65      0.61      0.60       268\n",
      "weighted avg       0.65      0.66      0.63       268\n",
      "\n",
      "Accuracy for Perceptron : 0.6567164179104478\n"
     ]
    }
   ],
   "source": [
    "b_perceptron_no_gridsearch = Perceptron()\n",
    "b_perceptron_no_gridsearch.fit(X_train,\n",
    "                               y_train)\n",
    "b_perceptron_no_gridsearch_predict = b_perceptron_no_gridsearch.predict(X_val)\n",
    "b_perceptron_no_gridsearch_score = b_perceptron_no_gridsearch.score(X_val,\n",
    "                                                                    y_val)\n",
    "print(metrics.classification_report(y_val,\n",
    "                                    b_perceptron_no_gridsearch_predict))\n",
    "print('Accuracy for Perceptron :', accuracy_score(y_val,\n",
    "                                                  b_perceptron_no_gridsearch_predict))"
   ]
  },
  {
   "cell_type": "code",
   "execution_count": 71,
   "metadata": {},
   "outputs": [
    {
     "name": "stdout",
     "output_type": "stream",
     "text": [
      "              precision    recall  f1-score   support\n",
      "\n",
      "           0       0.79      0.82      0.80       159\n",
      "           1       0.72      0.68      0.70       109\n",
      "\n",
      "    accuracy                           0.76       268\n",
      "   macro avg       0.75      0.75      0.75       268\n",
      "weighted avg       0.76      0.76      0.76       268\n",
      "\n",
      "Accuracy for MultiLayerPerceptron : 0.7611940298507462\n"
     ]
    }
   ],
   "source": [
    "b_multilayerperceptron_no_gridsearch = MLPClassifier()\n",
    "b_multilayerperceptron_no_gridsearch.fit(X_train,\n",
    "                                         y_train)\n",
    "b_multilayerperceptron_no_gridsearch_predict = b_multilayerperceptron_no_gridsearch.predict(X_val)\n",
    "b_multilayerperceptron_no_gridsearch_score = b_multilayerperceptron_no_gridsearch.score(X_val,\n",
    "                                                                                        y_val)\n",
    "print(metrics.classification_report(y_val,\n",
    "                                    b_multilayerperceptron_no_gridsearch_predict))\n",
    "print('Accuracy for MultiLayerPerceptron :', accuracy_score(y_val,\n",
    "                                                            b_multilayerperceptron_no_gridsearch_predict))"
   ]
  },
  {
   "cell_type": "code",
   "execution_count": 72,
   "metadata": {},
   "outputs": [
    {
     "name": "stdout",
     "output_type": "stream",
     "text": [
      "              precision    recall  f1-score   support\n",
      "\n",
      "           0       0.78      0.79      0.78       159\n",
      "           1       0.68      0.67      0.68       109\n",
      "\n",
      "    accuracy                           0.74       268\n",
      "   macro avg       0.73      0.73      0.73       268\n",
      "weighted avg       0.74      0.74      0.74       268\n",
      "\n",
      "Accuracy for DecisionTree : 0.7388059701492538\n"
     ]
    }
   ],
   "source": [
    "b_decisiontree_no_gridsearch = DecisionTreeClassifier()\n",
    "b_decisiontree_no_gridsearch.fit(X_train,\n",
    "                                 y_train)\n",
    "b_decisiontree_no_gridsearch_predict = b_decisiontree_no_gridsearch.predict(X_val)\n",
    "b_decisiontree_no_gridsearch_score = b_decisiontree_no_gridsearch.score(X_val,\n",
    "                                                                        y_val)\n",
    "print(metrics.classification_report(y_val,\n",
    "                                    b_decisiontree_no_gridsearch_predict))\n",
    "print('Accuracy for DecisionTree :', accuracy_score(y_val,\n",
    "                                                    b_decisiontree_no_gridsearch_predict))"
   ]
  },
  {
   "cell_type": "code",
   "execution_count": 73,
   "metadata": {},
   "outputs": [
    {
     "name": "stdout",
     "output_type": "stream",
     "text": [
      "              precision    recall  f1-score   support\n",
      "\n",
      "           0       0.67      0.82      0.73       159\n",
      "           1       0.60      0.40      0.48       109\n",
      "\n",
      "    accuracy                           0.65       268\n",
      "   macro avg       0.63      0.61      0.61       268\n",
      "weighted avg       0.64      0.65      0.63       268\n",
      "\n",
      "Accuracy for KNearestNeighbors : 0.6492537313432836\n"
     ]
    }
   ],
   "source": [
    "b_knearestneighbors_no_gridsearch = KNeighborsClassifier()\n",
    "b_knearestneighbors_no_gridsearch.fit(X_train,\n",
    "                                      y_train)\n",
    "b_knearestneighbors_no_gridsearch_predict = b_knearestneighbors_no_gridsearch.predict(X_val)\n",
    "b_knearestneighbors_no_gridsearch_score = b_knearestneighbors_no_gridsearch.score(X_val,\n",
    "                                                                                  y_val)\n",
    "print(metrics.classification_report(y_val,\n",
    "                                    b_knearestneighbors_no_gridsearch_predict))\n",
    "print('Accuracy for KNearestNeighbors :', accuracy_score(y_val,\n",
    "                                                         b_knearestneighbors_no_gridsearch_predict))"
   ]
  },
  {
   "cell_type": "code",
   "execution_count": 74,
   "metadata": {},
   "outputs": [
    {
     "name": "stdout",
     "output_type": "stream",
     "text": [
      "              precision    recall  f1-score   support\n",
      "\n",
      "           0       0.81      0.91      0.86       159\n",
      "           1       0.84      0.68      0.75       109\n",
      "\n",
      "    accuracy                           0.82       268\n",
      "   macro avg       0.82      0.80      0.80       268\n",
      "weighted avg       0.82      0.82      0.81       268\n",
      "\n",
      "Accuracy for RandomForest : 0.8171641791044776\n"
     ]
    }
   ],
   "source": [
    "b_randomforest_no_gridsearch = RandomForestClassifier()\n",
    "b_randomforest_no_gridsearch.fit(X_train,\n",
    "                                 y_train)\n",
    "b_randomforest_no_gridsearch_predict = b_randomforest_no_gridsearch.predict(X_val)\n",
    "b_randomforest_no_gridsearch_score = b_randomforest_no_gridsearch.score(X_val,\n",
    "                                                                        y_val)\n",
    "print(metrics.classification_report(y_val,\n",
    "                                    b_randomforest_no_gridsearch_predict))\n",
    "print('Accuracy for RandomForest :', accuracy_score(y_val,\n",
    "                                                    b_randomforest_no_gridsearch_predict))"
   ]
  },
  {
   "cell_type": "code",
   "execution_count": 75,
   "metadata": {},
   "outputs": [
    {
     "name": "stdout",
     "output_type": "stream",
     "text": [
      "              precision    recall  f1-score   support\n",
      "\n",
      "           0       0.79      0.89      0.84       159\n",
      "           1       0.81      0.66      0.73       109\n",
      "\n",
      "    accuracy                           0.80       268\n",
      "   macro avg       0.80      0.78      0.78       268\n",
      "weighted avg       0.80      0.80      0.79       268\n",
      "\n",
      "Accuracy for XGBoost : 0.7985074626865671\n"
     ]
    }
   ],
   "source": [
    "b_xgboost_no_gridsearch = XGBClassifier()\n",
    "b_xgboost_no_gridsearch.fit(X_train,\n",
    "                            y_train)\n",
    "b_xgboost_no_gridsearch_predict = b_xgboost_no_gridsearch.predict(X_val)\n",
    "b_xgboost_no_gridsearch_score = b_xgboost_no_gridsearch.score(X_val,\n",
    "                                                              y_val)\n",
    "print(metrics.classification_report(y_val,\n",
    "                                    b_xgboost_no_gridsearch_predict))\n",
    "print('Accuracy for XGBoost :', accuracy_score(y_val,\n",
    "                                               b_xgboost_no_gridsearch_predict))"
   ]
  },
  {
   "cell_type": "markdown",
   "metadata": {},
   "source": [
    "# 5.3 세 번째 방법"
   ]
  },
  {
   "cell_type": "code",
   "execution_count": 76,
   "metadata": {},
   "outputs": [],
   "source": [
    "target_c = pd_train_c[['Survived']]\n",
    "feature_c = pd_train_c[['Pclass',\n",
    "                        'Age',\n",
    "                        'Sex',\n",
    "                        'SibSp',\n",
    "                        'Parch',\n",
    "                        'Embarked',\n",
    "                        'NameA',\n",
    "                        'CabinA',\n",
    "                        'Fare']]"
   ]
  },
  {
   "cell_type": "code",
   "execution_count": 77,
   "metadata": {},
   "outputs": [
    {
     "name": "stdout",
     "output_type": "stream",
     "text": [
      "(623, 9) (268, 9) (623, 1) (268, 1)\n"
     ]
    }
   ],
   "source": [
    "X_train, X_val, y_train, y_val = train_test_split(feature_c,\n",
    "                                                  target_c,\n",
    "                                                  test_size = 0.3)\n",
    "\n",
    "print(X_train.shape,\n",
    "      X_val.shape,\n",
    "      y_train.shape,\n",
    "      y_val.shape)"
   ]
  },
  {
   "cell_type": "code",
   "execution_count": 78,
   "metadata": {},
   "outputs": [
    {
     "name": "stdout",
     "output_type": "stream",
     "text": [
      "              precision    recall  f1-score   support\n",
      "\n",
      "           0       0.77      0.71      0.74       160\n",
      "           1       0.62      0.69      0.65       108\n",
      "\n",
      "    accuracy                           0.70       268\n",
      "   macro avg       0.69      0.70      0.69       268\n",
      "weighted avg       0.71      0.70      0.70       268\n",
      "\n",
      "Accuracy for SupportVectorMachine : 0.7014925373134329\n"
     ]
    }
   ],
   "source": [
    "c_supportvectormachine_no_gridsearch = SVC()\n",
    "c_supportvectormachine_no_gridsearch.fit(X_train,\n",
    "                                         y_train)\n",
    "c_supportvectormachine_no_gridsearch_predict = c_supportvectormachine_no_gridsearch.predict(X_val)\n",
    "c_supportvectormachine_no_gridsearch_score = c_supportvectormachine_no_gridsearch.score(X_val,\n",
    "                                                                                        y_val)\n",
    "print(metrics.classification_report(y_val,\n",
    "                                    c_supportvectormachine_no_gridsearch_predict))\n",
    "print('Accuracy for SupportVectorMachine :', accuracy_score(y_val,\n",
    "                                                            c_supportvectormachine_no_gridsearch_predict))"
   ]
  },
  {
   "cell_type": "code",
   "execution_count": 79,
   "metadata": {},
   "outputs": [
    {
     "name": "stdout",
     "output_type": "stream",
     "text": [
      "              precision    recall  f1-score   support\n",
      "\n",
      "           0       0.68      0.93      0.79       160\n",
      "           1       0.76      0.36      0.49       108\n",
      "\n",
      "    accuracy                           0.70       268\n",
      "   macro avg       0.72      0.64      0.64       268\n",
      "weighted avg       0.72      0.70      0.67       268\n",
      "\n",
      "Accuracy for Perceptron : 0.6977611940298507\n"
     ]
    }
   ],
   "source": [
    "c_perceptron_no_gridsearch = Perceptron()\n",
    "c_perceptron_no_gridsearch.fit(X_train,\n",
    "                               y_train)\n",
    "c_perceptron_no_gridsearch_predict = c_perceptron_no_gridsearch.predict(X_val)\n",
    "c_perceptron_no_gridsearch_score = c_perceptron_no_gridsearch.score(X_val,\n",
    "                                                                    y_val)\n",
    "print(metrics.classification_report(y_val,\n",
    "                                    c_perceptron_no_gridsearch_predict))\n",
    "print('Accuracy for Perceptron :', accuracy_score(y_val,\n",
    "                                                  c_perceptron_no_gridsearch_predict))"
   ]
  },
  {
   "cell_type": "code",
   "execution_count": 80,
   "metadata": {},
   "outputs": [
    {
     "name": "stdout",
     "output_type": "stream",
     "text": [
      "              precision    recall  f1-score   support\n",
      "\n",
      "           0       0.83      0.76      0.79       160\n",
      "           1       0.68      0.78      0.73       108\n",
      "\n",
      "    accuracy                           0.76       268\n",
      "   macro avg       0.76      0.77      0.76       268\n",
      "weighted avg       0.77      0.76      0.77       268\n",
      "\n",
      "Accuracy for MultiLayerPerceptron : 0.7649253731343284\n"
     ]
    }
   ],
   "source": [
    "c_multilayerperceptron_no_gridsearch = MLPClassifier()\n",
    "c_multilayerperceptron_no_gridsearch.fit(X_train,\n",
    "                                         y_train)\n",
    "c_multilayerperceptron_no_gridsearch_predict = c_multilayerperceptron_no_gridsearch.predict(X_val)\n",
    "c_multilayerperceptron_no_gridsearch_score = c_multilayerperceptron_no_gridsearch.score(X_val,\n",
    "                                                                                        y_val)\n",
    "print(metrics.classification_report(y_val,\n",
    "                                    c_multilayerperceptron_no_gridsearch_predict))\n",
    "print('Accuracy for MultiLayerPerceptron :', accuracy_score(y_val,\n",
    "                                                            c_multilayerperceptron_no_gridsearch_predict))"
   ]
  },
  {
   "cell_type": "code",
   "execution_count": 81,
   "metadata": {},
   "outputs": [
    {
     "name": "stdout",
     "output_type": "stream",
     "text": [
      "              precision    recall  f1-score   support\n",
      "\n",
      "           0       0.81      0.76      0.78       160\n",
      "           1       0.67      0.74      0.70       108\n",
      "\n",
      "    accuracy                           0.75       268\n",
      "   macro avg       0.74      0.75      0.74       268\n",
      "weighted avg       0.76      0.75      0.75       268\n",
      "\n",
      "Accuracy for DecisionTree : 0.75\n"
     ]
    }
   ],
   "source": [
    "c_decisiontree_no_gridsearch = DecisionTreeClassifier()\n",
    "c_decisiontree_no_gridsearch.fit(X_train,\n",
    "                                 y_train)\n",
    "c_decisiontree_no_gridsearch_predict = c_decisiontree_no_gridsearch.predict(X_val)\n",
    "c_decisiontree_no_gridsearch_score = c_decisiontree_no_gridsearch.score(X_val,\n",
    "                                                                        y_val)\n",
    "print(metrics.classification_report(y_val,\n",
    "                                    c_decisiontree_no_gridsearch_predict))\n",
    "print('Accuracy for DecisionTree :', accuracy_score(y_val,\n",
    "                                                    c_decisiontree_no_gridsearch_predict))"
   ]
  },
  {
   "cell_type": "code",
   "execution_count": 82,
   "metadata": {},
   "outputs": [
    {
     "name": "stdout",
     "output_type": "stream",
     "text": [
      "              precision    recall  f1-score   support\n",
      "\n",
      "           0       0.74      0.79      0.77       160\n",
      "           1       0.66      0.58      0.62       108\n",
      "\n",
      "    accuracy                           0.71       268\n",
      "   macro avg       0.70      0.69      0.69       268\n",
      "weighted avg       0.71      0.71      0.71       268\n",
      "\n",
      "Accuracy for KNearestNeighbors : 0.7089552238805971\n"
     ]
    }
   ],
   "source": [
    "c_knearestneighbors_no_gridsearch = KNeighborsClassifier()\n",
    "c_knearestneighbors_no_gridsearch.fit(X_train,\n",
    "                                      y_train)\n",
    "c_knearestneighbors_no_gridsearch_predict = c_knearestneighbors_no_gridsearch.predict(X_val)\n",
    "c_knearestneighbors_no_gridsearch_score = c_knearestneighbors_no_gridsearch.score(X_val,\n",
    "                                                                                  y_val)\n",
    "print(metrics.classification_report(y_val,\n",
    "                                    c_knearestneighbors_no_gridsearch_predict))\n",
    "print('Accuracy for KNearestNeighbors :', accuracy_score(y_val,\n",
    "                                                         c_knearestneighbors_no_gridsearch_predict))"
   ]
  },
  {
   "cell_type": "code",
   "execution_count": 83,
   "metadata": {},
   "outputs": [
    {
     "name": "stdout",
     "output_type": "stream",
     "text": [
      "              precision    recall  f1-score   support\n",
      "\n",
      "           0       0.84      0.91      0.87       160\n",
      "           1       0.84      0.74      0.79       108\n",
      "\n",
      "    accuracy                           0.84       268\n",
      "   macro avg       0.84      0.82      0.83       268\n",
      "weighted avg       0.84      0.84      0.84       268\n",
      "\n",
      "Accuracy for RandomForest : 0.8395522388059702\n"
     ]
    }
   ],
   "source": [
    "c_randomforest_no_gridsearch = RandomForestClassifier()\n",
    "c_randomforest_no_gridsearch.fit(X_train,\n",
    "                                 y_train)\n",
    "c_randomforest_no_gridsearch_predict = c_randomforest_no_gridsearch.predict(X_val)\n",
    "c_randomforest_no_gridsearch_score = c_randomforest_no_gridsearch.score(X_val,\n",
    "                                                                        y_val)\n",
    "print(metrics.classification_report(y_val,\n",
    "                                    c_randomforest_no_gridsearch_predict))\n",
    "print('Accuracy for RandomForest :', accuracy_score(y_val,\n",
    "                                                    c_randomforest_no_gridsearch_predict))"
   ]
  },
  {
   "cell_type": "code",
   "execution_count": 84,
   "metadata": {},
   "outputs": [
    {
     "name": "stdout",
     "output_type": "stream",
     "text": [
      "              precision    recall  f1-score   support\n",
      "\n",
      "           0       0.83      0.88      0.86       160\n",
      "           1       0.81      0.74      0.77       108\n",
      "\n",
      "    accuracy                           0.82       268\n",
      "   macro avg       0.82      0.81      0.82       268\n",
      "weighted avg       0.82      0.82      0.82       268\n",
      "\n",
      "Accuracy for XGBoost : 0.8246268656716418\n"
     ]
    }
   ],
   "source": [
    "c_xgboost_no_gridsearch = XGBClassifier()\n",
    "c_xgboost_no_gridsearch.fit(X_train,\n",
    "                            y_train)\n",
    "c_xgboost_no_gridsearch_predict = c_xgboost_no_gridsearch.predict(X_val)\n",
    "c_xgboost_no_gridsearch_score = c_xgboost_no_gridsearch.score(X_val,\n",
    "                                                              y_val)\n",
    "print(metrics.classification_report(y_val,\n",
    "                                    c_xgboost_no_gridsearch_predict))\n",
    "print('Accuracy for XGBoost :', accuracy_score(y_val,\n",
    "                                               c_xgboost_no_gridsearch_predict))"
   ]
  },
  {
   "cell_type": "markdown",
   "metadata": {},
   "source": [
    "# 6. 학습 모델 성능 비교"
   ]
  },
  {
   "cell_type": "code",
   "execution_count": 85,
   "metadata": {},
   "outputs": [
    {
     "data": {
      "text/html": [
       "<div>\n",
       "<style scoped>\n",
       "    .dataframe tbody tr th:only-of-type {\n",
       "        vertical-align: middle;\n",
       "    }\n",
       "\n",
       "    .dataframe tbody tr th {\n",
       "        vertical-align: top;\n",
       "    }\n",
       "\n",
       "    .dataframe thead th {\n",
       "        text-align: right;\n",
       "    }\n",
       "</style>\n",
       "<table border=\"1\" class=\"dataframe\">\n",
       "  <thead>\n",
       "    <tr style=\"text-align: right;\">\n",
       "      <th></th>\n",
       "      <th>Score(결측값 → 생략)</th>\n",
       "      <th>Score(결측값 → 대표값 대체)</th>\n",
       "      <th>Score(결측값 → 상관분석)</th>\n",
       "    </tr>\n",
       "    <tr>\n",
       "      <th>Model</th>\n",
       "      <th></th>\n",
       "      <th></th>\n",
       "      <th></th>\n",
       "    </tr>\n",
       "  </thead>\n",
       "  <tbody>\n",
       "    <tr>\n",
       "      <td>DecisionTree</td>\n",
       "      <td>0.763636</td>\n",
       "      <td>0.738806</td>\n",
       "      <td>0.750000</td>\n",
       "    </tr>\n",
       "    <tr>\n",
       "      <td>XGBoost</td>\n",
       "      <td>0.763636</td>\n",
       "      <td>0.798507</td>\n",
       "      <td>0.824627</td>\n",
       "    </tr>\n",
       "    <tr>\n",
       "      <td>RandomForest</td>\n",
       "      <td>0.745455</td>\n",
       "      <td>0.817164</td>\n",
       "      <td>0.839552</td>\n",
       "    </tr>\n",
       "    <tr>\n",
       "      <td>SupportVectorMachine</td>\n",
       "      <td>0.727273</td>\n",
       "      <td>0.656716</td>\n",
       "      <td>0.701493</td>\n",
       "    </tr>\n",
       "    <tr>\n",
       "      <td>KNearestNeighbors</td>\n",
       "      <td>0.690909</td>\n",
       "      <td>0.649254</td>\n",
       "      <td>0.708955</td>\n",
       "    </tr>\n",
       "    <tr>\n",
       "      <td>MultiLayerPerceptron</td>\n",
       "      <td>0.654545</td>\n",
       "      <td>0.761194</td>\n",
       "      <td>0.764925</td>\n",
       "    </tr>\n",
       "    <tr>\n",
       "      <td>Perceptron</td>\n",
       "      <td>0.345455</td>\n",
       "      <td>0.656716</td>\n",
       "      <td>0.697761</td>\n",
       "    </tr>\n",
       "  </tbody>\n",
       "</table>\n",
       "</div>"
      ],
      "text/plain": [
       "                      Score(결측값 → 생략)  Score(결측값 → 대표값 대체)  Score(결측값 → 상관분석)\n",
       "Model                                                                        \n",
       "DecisionTree                 0.763636             0.738806           0.750000\n",
       "XGBoost                      0.763636             0.798507           0.824627\n",
       "RandomForest                 0.745455             0.817164           0.839552\n",
       "SupportVectorMachine         0.727273             0.656716           0.701493\n",
       "KNearestNeighbors            0.690909             0.649254           0.708955\n",
       "MultiLayerPerceptron         0.654545             0.761194           0.764925\n",
       "Perceptron                   0.345455             0.656716           0.697761"
      ]
     },
     "execution_count": 85,
     "metadata": {},
     "output_type": "execute_result"
    }
   ],
   "source": [
    "models = pd.DataFrame({'Model' : ['SupportVectorMachine',\n",
    "                                  'Perceptron',\n",
    "                                  'MultiLayerPerceptron',\n",
    "                                  'DecisionTree',\n",
    "                                  'KNearestNeighbors',\n",
    "                                  'RandomForest',\n",
    "                                  'XGBoost'],\n",
    "                       'Score(결측값 → 생략)' : [a_supportvectormachine_no_gridsearch_score,\n",
    "                                                 a_perceptron_no_gridsearch_score,\n",
    "                                                 a_multilayerperceptron_no_gridsearch_score,\n",
    "                                                 a_decisiontree_no_gridsearch_score,\n",
    "                                                 a_knearestneighbors_no_gridsearch_score,\n",
    "                                                 a_randomforest_no_gridsearch_score,\n",
    "                                                 a_xgboost_no_gridsearch_score],\n",
    "                       'Score(결측값 → 대표값 대체)' : [b_supportvectormachine_no_gridsearch_score,\n",
    "                                                        b_perceptron_no_gridsearch_score,\n",
    "                                                        b_multilayerperceptron_no_gridsearch_score,\n",
    "                                                        b_decisiontree_no_gridsearch_score,\n",
    "                                                        b_knearestneighbors_no_gridsearch_score,\n",
    "                                                        b_randomforest_no_gridsearch_score,\n",
    "                                                        b_xgboost_no_gridsearch_score],\n",
    "                       'Score(결측값 → 상관분석)' : [c_supportvectormachine_no_gridsearch_score,\n",
    "                                                     c_perceptron_no_gridsearch_score,\n",
    "                                                     c_multilayerperceptron_no_gridsearch_score,\n",
    "                                                           c_decisiontree_no_gridsearch_score,\n",
    "                                                     c_knearestneighbors_no_gridsearch_score,\n",
    "                                                     c_randomforest_no_gridsearch_score,\n",
    "                                                     c_xgboost_no_gridsearch_score]})\n",
    "models = models.set_index('Model')\n",
    "models.sort_values(by = 'Score(결측값 → 생략)',\n",
    "                   ascending = False)"
   ]
  },
  {
   "cell_type": "code",
   "execution_count": null,
   "metadata": {},
   "outputs": [],
   "source": []
  }
 ],
 "metadata": {
  "kernelspec": {
   "display_name": "Python 3",
   "language": "python",
   "name": "python3"
  },
  "language_info": {
   "codemirror_mode": {
    "name": "ipython",
    "version": 3
   },
   "file_extension": ".py",
   "mimetype": "text/x-python",
   "name": "python",
   "nbconvert_exporter": "python",
   "pygments_lexer": "ipython3",
   "version": "3.6.5"
  }
 },
 "nbformat": 4,
 "nbformat_minor": 4
}
